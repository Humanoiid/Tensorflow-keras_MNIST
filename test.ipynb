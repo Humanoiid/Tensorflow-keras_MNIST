{
 "cells": [
  {
   "cell_type": "code",
   "execution_count": 3,
   "metadata": {
    "scrolled": true
   },
   "outputs": [
    {
     "name": "stderr",
     "output_type": "stream",
     "text": [
      "C:\\Users\\MBIS\\anaconda3\\envs\\tensorflow114_py37\\lib\\site-packages\\tensorflow\\python\\framework\\dtypes.py:516: FutureWarning: Passing (type, 1) or '1type' as a synonym of type is deprecated; in a future version of numpy, it will be understood as (type, (1,)) / '(1,)type'.\n",
      "  _np_qint8 = np.dtype([(\"qint8\", np.int8, 1)])\n",
      "C:\\Users\\MBIS\\anaconda3\\envs\\tensorflow114_py37\\lib\\site-packages\\tensorflow\\python\\framework\\dtypes.py:517: FutureWarning: Passing (type, 1) or '1type' as a synonym of type is deprecated; in a future version of numpy, it will be understood as (type, (1,)) / '(1,)type'.\n",
      "  _np_quint8 = np.dtype([(\"quint8\", np.uint8, 1)])\n",
      "C:\\Users\\MBIS\\anaconda3\\envs\\tensorflow114_py37\\lib\\site-packages\\tensorflow\\python\\framework\\dtypes.py:518: FutureWarning: Passing (type, 1) or '1type' as a synonym of type is deprecated; in a future version of numpy, it will be understood as (type, (1,)) / '(1,)type'.\n",
      "  _np_qint16 = np.dtype([(\"qint16\", np.int16, 1)])\n",
      "C:\\Users\\MBIS\\anaconda3\\envs\\tensorflow114_py37\\lib\\site-packages\\tensorflow\\python\\framework\\dtypes.py:519: FutureWarning: Passing (type, 1) or '1type' as a synonym of type is deprecated; in a future version of numpy, it will be understood as (type, (1,)) / '(1,)type'.\n",
      "  _np_quint16 = np.dtype([(\"quint16\", np.uint16, 1)])\n",
      "C:\\Users\\MBIS\\anaconda3\\envs\\tensorflow114_py37\\lib\\site-packages\\tensorflow\\python\\framework\\dtypes.py:520: FutureWarning: Passing (type, 1) or '1type' as a synonym of type is deprecated; in a future version of numpy, it will be understood as (type, (1,)) / '(1,)type'.\n",
      "  _np_qint32 = np.dtype([(\"qint32\", np.int32, 1)])\n",
      "C:\\Users\\MBIS\\anaconda3\\envs\\tensorflow114_py37\\lib\\site-packages\\tensorflow\\python\\framework\\dtypes.py:525: FutureWarning: Passing (type, 1) or '1type' as a synonym of type is deprecated; in a future version of numpy, it will be understood as (type, (1,)) / '(1,)type'.\n",
      "  np_resource = np.dtype([(\"resource\", np.ubyte, 1)])\n",
      "C:\\Users\\MBIS\\anaconda3\\envs\\tensorflow114_py37\\lib\\site-packages\\tensorboard\\compat\\tensorflow_stub\\dtypes.py:541: FutureWarning: Passing (type, 1) or '1type' as a synonym of type is deprecated; in a future version of numpy, it will be understood as (type, (1,)) / '(1,)type'.\n",
      "  _np_qint8 = np.dtype([(\"qint8\", np.int8, 1)])\n",
      "C:\\Users\\MBIS\\anaconda3\\envs\\tensorflow114_py37\\lib\\site-packages\\tensorboard\\compat\\tensorflow_stub\\dtypes.py:542: FutureWarning: Passing (type, 1) or '1type' as a synonym of type is deprecated; in a future version of numpy, it will be understood as (type, (1,)) / '(1,)type'.\n",
      "  _np_quint8 = np.dtype([(\"quint8\", np.uint8, 1)])\n",
      "C:\\Users\\MBIS\\anaconda3\\envs\\tensorflow114_py37\\lib\\site-packages\\tensorboard\\compat\\tensorflow_stub\\dtypes.py:543: FutureWarning: Passing (type, 1) or '1type' as a synonym of type is deprecated; in a future version of numpy, it will be understood as (type, (1,)) / '(1,)type'.\n",
      "  _np_qint16 = np.dtype([(\"qint16\", np.int16, 1)])\n",
      "C:\\Users\\MBIS\\anaconda3\\envs\\tensorflow114_py37\\lib\\site-packages\\tensorboard\\compat\\tensorflow_stub\\dtypes.py:544: FutureWarning: Passing (type, 1) or '1type' as a synonym of type is deprecated; in a future version of numpy, it will be understood as (type, (1,)) / '(1,)type'.\n",
      "  _np_quint16 = np.dtype([(\"quint16\", np.uint16, 1)])\n",
      "C:\\Users\\MBIS\\anaconda3\\envs\\tensorflow114_py37\\lib\\site-packages\\tensorboard\\compat\\tensorflow_stub\\dtypes.py:545: FutureWarning: Passing (type, 1) or '1type' as a synonym of type is deprecated; in a future version of numpy, it will be understood as (type, (1,)) / '(1,)type'.\n",
      "  _np_qint32 = np.dtype([(\"qint32\", np.int32, 1)])\n",
      "C:\\Users\\MBIS\\anaconda3\\envs\\tensorflow114_py37\\lib\\site-packages\\tensorboard\\compat\\tensorflow_stub\\dtypes.py:550: FutureWarning: Passing (type, 1) or '1type' as a synonym of type is deprecated; in a future version of numpy, it will be understood as (type, (1,)) / '(1,)type'.\n",
      "  np_resource = np.dtype([(\"resource\", np.ubyte, 1)])\n"
     ]
    },
    {
     "name": "stdout",
     "output_type": "stream",
     "text": [
      "[name: \"/device:CPU:0\"\n",
      "device_type: \"CPU\"\n",
      "memory_limit: 268435456\n",
      "locality {\n",
      "}\n",
      "incarnation: 8957966651462543331\n",
      ", name: \"/device:GPU:0\"\n",
      "device_type: \"GPU\"\n",
      "memory_limit: 1434039091\n",
      "locality {\n",
      "  bus_id: 1\n",
      "  links {\n",
      "  }\n",
      "}\n",
      "incarnation: 2559480485561604812\n",
      "physical_device_desc: \"device: 0, name: GeForce GTX 960, pci bus id: 0000:01:00.0, compute capability: 5.2\"\n",
      "]\n"
     ]
    }
   ],
   "source": [
    "import tensorflow\n",
    "from tensorflow.python.client import device_lib\n",
    "print(device_lib.list_local_devices())"
   ]
  },
  {
   "cell_type": "code",
   "execution_count": 2,
   "metadata": {},
   "outputs": [
    {
     "name": "stdout",
     "output_type": "stream",
     "text": [
      "tensorflow 1.14.0\n",
      "keras 2.2.4-tf\n",
      "pandas 1.0.5\n",
      "sklearn 0.23.1\n",
      "scipy 1.5.0\n",
      "numpy 1.18.5\n",
      "matplotlib 3.2.2\n",
      "h5py 2.10.0\n"
     ]
    }
   ],
   "source": [
    "import tensorflow\n",
    "from tensorflow import keras\n",
    "import pandas\n",
    "import sklearn\n",
    "import scipy\n",
    "import numpy\n",
    "import matplotlib\n",
    "import pydotplus\n",
    "import pydot\n",
    "import h5py\n",
    "print('tensorflow ' + tensorflow.__version__)\n",
    "print('keras ' + keras.__version__)\n",
    "print('pandas ' + pandas.__version__)\n",
    "print('sklearn ' + sklearn.__version__)\n",
    "print('scipy ' + scipy.__version__)\n",
    "print('numpy ' + numpy.__version__)\n",
    "print('matplotlib ' + matplotlib.__version__)\n",
    "print('h5py ' + h5py.__version__)"
   ]
  },
  {
   "cell_type": "code",
   "execution_count": 4,
   "metadata": {},
   "outputs": [
    {
     "data": {
      "text/plain": [
       "<tensorflow.python.client.session.Session at 0x18e630d36c8>"
      ]
     },
     "execution_count": 4,
     "metadata": {},
     "output_type": "execute_result"
    }
   ],
   "source": [
    "import tensorflow as tf\n",
    "tf.Session()"
   ]
  },
  {
   "cell_type": "code",
   "execution_count": 2,
   "metadata": {
    "scrolled": true
   },
   "outputs": [
    {
     "name": "stdout",
     "output_type": "stream",
     "text": [
      "Package                       Version\n",
      "----------------------------- -------------------\n",
      "absl-py                       0.9.0\n",
      "alabaster                     0.7.12\n",
      "argh                          0.26.2\n",
      "astor                         0.8.0\n",
      "astroid                       2.3.3\n",
      "atomicwrites                  1.4.0\n",
      "attrs                         19.3.0\n",
      "autopep8                      1.5.3\n",
      "Babel                         2.8.0\n",
      "backcall                      0.2.0\n",
      "bcrypt                        3.1.7\n",
      "bleach                        3.1.5\n",
      "brotlipy                      0.7.0\n",
      "catboost                      0.23.2\n",
      "certifi                       2020.6.20\n",
      "cffi                          1.14.0\n",
      "chardet                       3.0.4\n",
      "cloudpickle                   1.5.0\n",
      "colorama                      0.4.3\n",
      "cryptography                  2.9.2\n",
      "cycler                        0.10.0\n",
      "cytoolz                       0.10.1\n",
      "dask                          2.21.0\n",
      "decorator                     4.4.2\n",
      "defusedxml                    0.6.0\n",
      "diff-match-patch              20200713\n",
      "docutils                      0.16\n",
      "entrypoints                   0.3\n",
      "flake8                        3.8.3\n",
      "future                        0.18.2\n",
      "gast                          0.3.3\n",
      "grpcio                        1.27.2\n",
      "h5py                          2.10.0\n",
      "idna                          2.10\n",
      "imagecodecs                   2020.5.30\n",
      "imageio                       2.9.0\n",
      "imagesize                     1.2.0\n",
      "importlib-metadata            1.7.0\n",
      "intervaltree                  3.0.2\n",
      "ipykernel                     5.3.2\n",
      "ipython                       7.16.1\n",
      "ipython-genutils              0.2.0\n",
      "ipywidgets                    7.5.1\n",
      "isort                         4.3.21\n",
      "jedi                          0.17.1\n",
      "Jinja2                        2.11.2\n",
      "joblib                        0.16.0\n",
      "jsonschema                    3.2.0\n",
      "jupyter                       1.0.0\n",
      "jupyter-client                6.1.6\n",
      "jupyter-console               6.1.0\n",
      "jupyter-core                  4.6.3\n",
      "Keras                         2.3.1\n",
      "Keras-Applications            1.0.8\n",
      "Keras-Preprocessing           1.1.0\n",
      "keyring                       21.2.1\n",
      "kiwisolver                    1.2.0\n",
      "lazy-object-proxy             1.5.0\n",
      "lightgbm                      2.3.1\n",
      "Markdown                      3.1.1\n",
      "MarkupSafe                    1.1.1\n",
      "matplotlib                    3.2.2\n",
      "mccabe                        0.6.1\n",
      "mistune                       0.8.4\n",
      "mkl-fft                       1.1.0\n",
      "mkl-random                    1.1.1\n",
      "mkl-service                   2.3.0\n",
      "nbconvert                     5.6.1\n",
      "nbformat                      5.0.7\n",
      "networkx                      2.4\n",
      "notebook                      6.0.3\n",
      "numpy                         1.18.5\n",
      "numpydoc                      1.1.0\n",
      "olefile                       0.46\n",
      "packaging                     20.4\n",
      "pandas                        1.0.5\n",
      "pandocfilters                 1.4.2\n",
      "paramiko                      2.7.1\n",
      "parso                         0.7.0\n",
      "pathtools                     0.1.2\n",
      "patsy                         0.5.1\n",
      "pexpect                       4.8.0\n",
      "pickleshare                   0.7.5\n",
      "Pillow                        7.2.0\n",
      "pip                           20.1.1\n",
      "pluggy                        0.13.1\n",
      "prometheus-client             0.8.0\n",
      "prompt-toolkit                3.0.5\n",
      "protobuf                      3.12.3\n",
      "psutil                        5.7.0\n",
      "pycodestyle                   2.6.0\n",
      "pycparser                     2.20\n",
      "pydocstyle                    5.0.2\n",
      "pydot                         1.4.1\n",
      "pydotplus                     2.0.2\n",
      "pyflakes                      2.2.0\n",
      "Pygments                      2.6.1\n",
      "pylint                        2.4.4\n",
      "PyNaCl                        1.4.0\n",
      "pyOpenSSL                     19.1.0\n",
      "pyparsing                     2.4.7\n",
      "PyQt5                         5.12.3\n",
      "PyQt5-sip                     4.19.18\n",
      "PyQtChart                     5.12\n",
      "PyQtWebEngine                 5.12.1\n",
      "pyreadline                    2.1\n",
      "pyrsistent                    0.16.0\n",
      "PySocks                       1.7.1\n",
      "python-dateutil               2.8.1\n",
      "python-jsonrpc-server         0.3.4\n",
      "python-language-server        0.34.1\n",
      "pytz                          2020.1\n",
      "PyWavelets                    1.1.1\n",
      "pywin32                       227\n",
      "pywin32-ctypes                0.2.0\n",
      "pywinpty                      0.5.7\n",
      "PyYAML                        5.3.1\n",
      "pyzmq                         19.0.1\n",
      "QDarkStyle                    2.8.1\n",
      "QtAwesome                     0.7.2\n",
      "qtconsole                     4.7.5\n",
      "QtPy                          1.9.0\n",
      "requests                      2.24.0\n",
      "rope                          0.17.0\n",
      "Rtree                         0.9.4\n",
      "scikit-image                  0.17.2\n",
      "scikit-learn                  0.23.1\n",
      "scipy                         1.5.0\n",
      "seaborn                       0.10.1\n",
      "Send2Trash                    1.5.0\n",
      "setuptools                    49.2.0.post20200714\n",
      "six                           1.15.0\n",
      "snowballstemmer               2.0.0\n",
      "sortedcontainers              2.2.2\n",
      "Sphinx                        3.1.2\n",
      "sphinxcontrib-applehelp       1.0.2\n",
      "sphinxcontrib-devhelp         1.0.2\n",
      "sphinxcontrib-htmlhelp        1.0.3\n",
      "sphinxcontrib-jsmath          1.0.1\n",
      "sphinxcontrib-qthelp          1.0.3\n",
      "sphinxcontrib-serializinghtml 1.1.4\n",
      "spyder                        4.1.4\n",
      "spyder-kernels                1.9.2\n",
      "statsmodels                   0.11.1\n",
      "tensorboard                   1.14.0\n",
      "tensorflow                    1.14.0\n",
      "tensorflow-estimator          1.14.0\n",
      "termcolor                     1.1.0\n",
      "terminado                     0.8.3\n",
      "testpath                      0.4.4\n",
      "threadpoolctl                 2.1.0\n",
      "tifffile                      2020.7.17\n",
      "toml                          0.10.1\n",
      "toolz                         0.10.0\n",
      "tornado                       6.0.4\n",
      "tqdm                          4.47.0\n",
      "traitlets                     4.3.3\n",
      "ujson                         1.35\n",
      "urllib3                       1.25.9\n",
      "watchdog                      0.10.3\n",
      "wcwidth                       0.2.5\n",
      "webencodings                  0.5.1\n",
      "Werkzeug                      1.0.1\n",
      "wheel                         0.34.2\n",
      "widgetsnbextension            3.5.1\n",
      "win-inet-pton                 1.1.0\n",
      "wincertstore                  0.2\n",
      "wrapt                         1.12.1\n",
      "xgboost                       0.90\n",
      "yapf                          0.30.0\n",
      "zipp                          3.1.0\n"
     ]
    }
   ],
   "source": [
    "!pip list"
   ]
  },
  {
   "cell_type": "code",
   "execution_count": 4,
   "metadata": {},
   "outputs": [
    {
     "name": "stdout",
     "output_type": "stream",
     "text": [
      "Name: tensorflow\n",
      "Version: 1.14.0\n",
      "Summary: TensorFlow is an open source machine learning framework for everyone.\n",
      "Home-page: https://www.tensorflow.org/\n",
      "Author: Google Inc.\n",
      "Author-email: packages@tensorflow.org\n",
      "License: Apache 2.0\n",
      "Location: c:\\users\\mbis\\anaconda3\\envs\\tensorflow114_py37\\lib\\site-packages\n",
      "Requires: gast, keras-preprocessing, tensorboard, tensorflow-estimator, protobuf, keras-applications, wheel, grpcio, google-pasta, astor, numpy, six, absl-py, wrapt, termcolor\n",
      "Required-by: \n"
     ]
    }
   ],
   "source": [
    "!pip show tensorflow"
   ]
  },
  {
   "cell_type": "code",
   "execution_count": null,
   "metadata": {},
   "outputs": [],
   "source": []
  }
 ],
 "metadata": {
  "kernelspec": {
   "display_name": "tensorflow114_py37",
   "language": "python",
   "name": "tensorflow114_py37"
  },
  "language_info": {
   "codemirror_mode": {
    "name": "ipython",
    "version": 3
   },
   "file_extension": ".py",
   "mimetype": "text/x-python",
   "name": "python",
   "nbconvert_exporter": "python",
   "pygments_lexer": "ipython3",
   "version": "3.7.7"
  }
 },
 "nbformat": 4,
 "nbformat_minor": 4
}

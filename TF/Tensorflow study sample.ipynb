{
 "cells": [
  {
   "cell_type": "markdown",
   "metadata": {},
   "source": [
    "# Tensorflow MNIST data call and study several issues at the bottom\n",
    "\n",
    "## Call tensorflow mnist data\n",
    "### references\n",
    "1. MNIST 초급: https://tensorflowkorea.gitbooks.io/tensorflow-kr/content/g3doc/tutorials/mnist/beginners/"
   ]
  },
  {
   "cell_type": "code",
   "execution_count": 21,
   "metadata": {},
   "outputs": [
    {
     "name": "stdout",
     "output_type": "stream",
     "text": [
      "Extracting MNIST_data/train-images-idx3-ubyte.gz\n",
      "Extracting MNIST_data/train-labels-idx1-ubyte.gz\n",
      "Extracting MNIST_data/t10k-images-idx3-ubyte.gz\n",
      "Extracting MNIST_data/t10k-labels-idx1-ubyte.gz\n"
     ]
    }
   ],
   "source": [
    "from tensorflow.examples.tutorials.mnist import input_data\n",
    "mnist = input_data.read_data_sets(\"MNIST_data/\", one_hot=True)"
   ]
  },
  {
   "cell_type": "markdown",
   "metadata": {},
   "source": [
    "## call the image\n",
    "### reference\n",
    "1. 이미지 처리 기초: https://datascienceschool.net/view-notebook/9af8d8e93c084bc49f0ac2bb8a20e2a4/\n",
    "2. https://cinema4dr12.tistory.com/1258"
   ]
  },
  {
   "cell_type": "code",
   "execution_count": 22,
   "metadata": {},
   "outputs": [],
   "source": [
    "import numpy as np\n",
    "import matplotlib.pyplot as plt"
   ]
  },
  {
   "cell_type": "code",
   "execution_count": 23,
   "metadata": {},
   "outputs": [
    {
     "name": "stdout",
     "output_type": "stream",
     "text": [
      "<class 'tensorflow.contrib.learn.python.learn.datasets.base.Datasets'>\n",
      "<class 'tensorflow.contrib.learn.python.learn.datasets.mnist.DataSet'>\n",
      "<tensorflow.contrib.learn.python.learn.datasets.mnist.DataSet object at 0x000001CCD0E7F048>\n",
      "====\n",
      "<class 'numpy.ndarray'>\n",
      "float32\n",
      "2\n",
      "43120000\n",
      "====\n",
      "<class 'numpy.ndarray'>\n",
      "float64\n",
      "2\n",
      "550000\n",
      "====\n"
     ]
    }
   ],
   "source": [
    "print(type(mnist))\n",
    "print(type(mnist.train))\n",
    "print(mnist.train)\n",
    "# type(mnist.train.shape)\n",
    "print ('====')\n",
    "print(type(mnist.train.images)) # ndarray\n",
    "# print(mnist.train.images[0])\n",
    "print(mnist.train.images.dtype) # float32\n",
    "print(mnist.train.images.ndim) # 2D\n",
    "print(mnist.train.images.size) # 43120000\n",
    "print ('====')\n",
    "print(type(mnist.train.labels)) # ndarray\n",
    "# print(mnist.train.labels[0])\n",
    "print(mnist.train.labels.dtype) # float64\n",
    "print(mnist.train.labels.ndim) # 2D\n",
    "print(mnist.train.labels.size) # 550000\n",
    "print ('====')\n"
   ]
  },
  {
   "cell_type": "code",
   "execution_count": 63,
   "metadata": {},
   "outputs": [
    {
     "name": "stdout",
     "output_type": "stream",
     "text": [
      "(55000, 784)\n"
     ]
    },
    {
     "data": {
      "text/plain": [
       "<matplotlib.image.AxesImage at 0x1cc8b54f888>"
      ]
     },
     "execution_count": 63,
     "metadata": {},
     "output_type": "execute_result"
    },
    {
     "data": {
      "image/png": "[encoded data removed]",
      "text/plain": [
       "<Figure size 432x288 with 1 Axes>"
      ]
     },
     "metadata": {
      "needs_background": "light"
     },
     "output_type": "display_data"
    }
   ],
   "source": [
    "print(mnist.train.images.shape) # 55000 images and 1 image with 784 pixels. (28*28 image)\n",
    "[n_image,n_pix] = mnist.train.images.shape\n",
    "# each pixel values range is [0,1]\n",
    "\n",
    "temp = np.zeros((28,28),dtype='float32')\n",
    "\n",
    "for i in range(n_pix):\n",
    "    [row_n,col_n] = divmod(i,28) # quotient -> row, remainder -> col\n",
    "    temp[row_n, col_n] = mnist.train.images[0,i]\n",
    "\n",
    "plt.imshow(temp, cmap='gray')"
   ]
  },
  {
   "cell_type": "code",
   "execution_count": 61,
   "metadata": {},
   "outputs": [
    {
     "name": "stdout",
     "output_type": "stream",
     "text": [
      "(55000, 10)\n",
      "<class 'numpy.ndarray'>\n",
      "[0. 0. 0. 0. 0. 0. 0. 1. 0. 0.]\n",
      "(array([7], dtype=int64),)\n",
      "<class 'tuple'>\n",
      "7\n"
     ]
    }
   ],
   "source": [
    "print(mnist.train.labels.shape)\n",
    "[n_image,n_pix] = mnist.train.labels.shape\n",
    "\n",
    "print(type(mnist.train.labels[0]))\n",
    "print(mnist.train.labels[0])\n",
    "print(np.where(mnist.train.labels[0] == 1))\n",
    "print(type(np.where(mnist.train.labels[0] == 1)))\n",
    "print(np.where(mnist.train.labels[0] == 1)[0][0]) # index of the number => it means, it seems like number 7"
   ]
  },
  {
   "cell_type": "markdown",
   "metadata": {},
   "source": [
    "## Softmax regression from tutorial\n",
    "* it will make result in float type. for that reason, use float type for label array.\n",
    "1. calculate evidence that data include in each class.\n",
    "2. change calculated result in probability\n",
    "\n",
    "* details\n",
    "1. sum(intensity (darkness) * weight) => - or +\n",
    "2. + bias on above result.\n",
    "$$ => evidence_i = \\sum_{j} {W_(i,j)x_j} + b_i$$\n",
    "\n",
    "$$ y = softmax(evidence) $$\n",
    "\n",
    "$$ softmax(x) = normalize(exp(x)) $$\n",
    "$$ softmax(x)_i = {exp(x_i)\\over \\sum_{j} {exp(x_j)} } $$\n",
    "\n",
    "$$ y=softmax(Wx + b)$$\n",
    "\n"
   ]
  },
  {
   "cell_type": "code",
   "execution_count": 67,
   "metadata": {},
   "outputs": [
    {
     "name": "stdout",
     "output_type": "stream",
     "text": [
      "<class 'tensorflow.python.framework.ops.Tensor'>\n"
     ]
    }
   ],
   "source": [
    "import tensorflow as tf\n",
    "\n",
    "# placeholder: assign input data\n",
    "x = tf.placeholder(tf.float32, [None, 784])\n",
    "print(type(x))\n",
    "\n",
    "# variable: used in calulation and updated by calculation (model variables)\n",
    "W = tf.Variable(tf.zeros([784, 10])) # Weight\n",
    "b = tf.Variable(tf.zeros([10])) # bias "
   ]
  },
  {
   "cell_type": "code",
   "execution_count": 68,
   "metadata": {},
   "outputs": [],
   "source": [
    "# as it is matrix calculation, input order and dimension is important\n",
    "y = tf.nn.softmax(tf.matmul(x,W) + b)"
   ]
  },
  {
   "cell_type": "markdown",
   "metadata": {},
   "source": [
    "## Measure\n",
    "### Cross entrophy\n",
    "$$ H_{y^{'}}(y) = - \\sum_{i} {y_i^{'} log(y_i)}$$\n",
    "\n",
    "\n"
   ]
  },
  {
   "cell_type": "code",
   "execution_count": null,
   "metadata": {},
   "outputs": [],
   "source": [
    "y_ = tf.placefolder(tf.float32, [None, 10])\n",
    "\n",
    "cross_entrophy = tf.reduce_mean(-tf.reduce_sum(y_ * tf.log(y), reduction_indices=[1]))\n",
    "# tf.log : log value of each element \n",
    "# tf.reduce_sum : sum the value at indices  (here, sum the value at [1] (second element))\n",
    "# tf.reduce_mean : get the mean of all example of batch\n"
   ]
  },
  {
   "cell_type": "code",
   "execution_count": null,
   "metadata": {},
   "outputs": [],
   "source": []
  },
  {
   "cell_type": "code",
   "execution_count": null,
   "metadata": {},
   "outputs": [],
   "source": []
  },
  {
   "cell_type": "code",
   "execution_count": null,
   "metadata": {},
   "outputs": [],
   "source": []
  }
 ],
 "metadata": {
  "kernelspec": {
   "display_name": "Python 3",
   "language": "python",
   "name": "python3"
  },
  "language_info": {
   "codemirror_mode": {
    "name": "ipython",
    "version": 3
   },
   "file_extension": ".py",
   "mimetype": "text/x-python",
   "name": "python",
   "nbconvert_exporter": "python",
   "pygments_lexer": "ipython3",
   "version": "3.7.7"
  }
 },
 "nbformat": 4,
 "nbformat_minor": 4
}

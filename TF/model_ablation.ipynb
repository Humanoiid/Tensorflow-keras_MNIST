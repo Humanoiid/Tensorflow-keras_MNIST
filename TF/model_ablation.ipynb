{
 "cells": [
  {
   "cell_type": "code",
   "execution_count": 1,
   "metadata": {},
   "outputs": [
    {
     "name": "stdout",
     "output_type": "stream",
     "text": [
      "2.1.0\n"
     ]
    },
    {
     "name": "stderr",
     "output_type": "stream",
     "text": [
      "Using TensorFlow backend.\n"
     ]
    }
   ],
   "source": [
    "import argparse\n",
    "import sys\n",
    "import os\n",
    "import pyautogui\n",
    "from datetime import datetime\n",
    "\n",
    "\n",
    "import tensorflow as tf\n",
    "import tensorboard\n",
    "\n",
    "\n",
    "import numpy as np\n",
    "import math\n",
    "import matplotlib.pyplot as plt\n",
    "from skimage.transform import resize\n",
    "\n",
    "\n",
    "from tensorflow import keras\n",
    "from keras import backend as K\n",
    "from tensorflow.keras import models\n",
    "from tensorflow.keras.models import load_model, Sequential\n",
    "from tensorflow.keras import layers\n",
    "from tensorflow.keras.layers import Dense, Flatten, Input, Activation, UpSampling2D\n",
    "from tensorflow.keras.layers import Conv2D, MaxPooling2D\n",
    "from tensorflow.keras.layers import BatchNormalization\n",
    "from tensorflow.keras import optimizers\n",
    "from tensorflow.keras.models import Model\n",
    "from tensorflow.keras.callbacks import EarlyStopping\n",
    "\n",
    "\n",
    "\n",
    "import keras_Model_Ablation"
   ]
  },
  {
   "cell_type": "code",
   "execution_count": 2,
   "metadata": {},
   "outputs": [],
   "source": [
    "# for system print\n",
    "sys_stdout_backup = sys.stdout\n",
    "\n",
    "save_path = '/Users/wlgns/Desktop/save/'\n",
    "# VGG19 VGG16 ResNet50 ResNet50V2 ResNet101 ResNet101V2 ResNet152 ResNet152V2 MobileNet MobileNetV2\n",
    "# model_name = 'VGG19'\n",
    "# model_name = ['VGG19', 'VGG16', 'ResNet50', 'ResNet101', 'ResNet152', 'MobileNetV3','AlexNet']\n",
    "model_name = ['VGG19', 'ResNet152', 'MobileNetV3']\n",
    "data_name = 'MNIST'\n",
    "image_size = 64\n",
    "channels = 1\n",
    "batch = 16\n",
    "epoch = 20\n",
    "# epoch = 1\n",
    "n_classes = 10\n",
    "\n",
    "# ###############\n",
    "# img_size = image_size\n",
    "# ch = channels\n",
    "\n",
    "ab_types = ['filt','block','fc']\n",
    "\n",
    "VGG19_ablation_filt = [4, 8]\n",
    "# VGG19_ablation_filt = [2, 1, 1/2, 1/4, 1/8, 1/16, 1/32, 1/64]\n",
    "VGG19_ablation_block = [1, 2, 3, 4, 5, 6]\n",
    "VGG19_ablation_fc = [1, 2, 3, 4, 5, 6]\n",
    "\n",
    "MobileNetV3_ablation_filt = [2, 1, 1/2, 1/4, 1/8, 1/16, 1/32]\n",
    "MobileNetV3_ablation_block = [2, 3, 4, 5, 6]\n",
    "MobileNetV3_ablation_fc = [1, 2, 3, 4, 5, 6]\n",
    "\n",
    "ResNet152_ablation_filt = [8, 4, 2, 1, 1/2, 1/4, 1/8, 1/16, 1/32]\n",
    "# ResNet152_ablation_block = [2, 3, 4, 5, 6]\n",
    "# ResNet152_ablation_fc = [1, 2, 3, 4, 5, 6]"
   ]
  },
  {
   "cell_type": "code",
   "execution_count": 3,
   "metadata": {},
   "outputs": [
    {
     "name": "stdout",
     "output_type": "stream",
     "text": [
      "VGG19\n",
      "ResNet152\n",
      "MobileNetV3\n",
      "\n",
      "8\n",
      "4\n",
      "2\n",
      "1\n",
      "0.5\n",
      "0.25\n",
      "0.125\n",
      "0.0625\n",
      "0.03125\n"
     ]
    }
   ],
   "source": [
    "for model_name_elem in model_name:\n",
    "    print(model_name_elem)\n",
    "print(\"\")\n",
    "\n",
    "for model_name_elem in ResNet152_ablation_filt:\n",
    "    print(model_name_elem)\n",
    "\n",
    "# for model_name_elem in VGG19_ablation_block:\n",
    "#     print(model_name_elem)\n",
    "# print(\"\")\n",
    "\n",
    "# for model_name_elem in VGG19_ablation_fc:\n",
    "#     print(model_name_elem)\n",
    "# print(\"\")"
   ]
  },
  {
   "cell_type": "code",
   "execution_count": 4,
   "metadata": {},
   "outputs": [],
   "source": [
    "### save Path\n",
    "if(os.path.isdir(save_path) != True):\n",
    "    os.mkdir(save_path)\n",
    "if(os.path.isdir(save_path + 'keras/') != True):\n",
    "    os.mkdir(save_path + 'keras/')  "
   ]
  },
  {
   "cell_type": "code",
   "execution_count": null,
   "metadata": {},
   "outputs": [
    {
     "name": "stdout",
     "output_type": "stream",
     "text": [
      "ResNet152_MNIST64_b16_ep20_fi8_bl5_fc0 - start date and time : 2020-09-24 19:06:09.520640\n",
      "[Load data. Done.] \n",
      "<class 'tensorflow.python.framework.errors_impl.ResourceExhaustedError'>\n",
      "Error information:  OOM when allocating tensor with shape[3,3,2048,2048] and type float on /job:localhost/replica:0/task:0/device:GPU:0 by allocator GPU_0_bfc [Op:Mul] name: conv2d_95/kernel/Initializer/random_uniform/mul/\n",
      "Model Error. skip\n",
      "ResNet152_MNIST64_b16_ep20_fi8_bl5_fc0 - finish date and time : 2020-09-24 19:06:34.621777\n",
      "\n",
      "ResNet152_MNIST64_b16_ep20_fi4_bl5_fc0 - start date and time : 2020-09-24 19:06:34.621777\n",
      "[Load data. Done.] \n",
      "[Load Model. Done.] \n",
      "[Model Complie. Done.] \n"
     ]
    }
   ],
   "source": [
    "for model_name_elem in model_name:\n",
    "    sys.stdout = sys_stdout_backup\n",
    "    \n",
    "    if(model_name_elem != 'ResNet152'):\n",
    "#         break\n",
    "        continue\n",
    "    \n",
    "    \n",
    "    \n",
    "    ab_type = ab_types[0]\n",
    "#     num_filter = 1 # 2 ~ 1/64\n",
    "    num_blocks = 5 # 2~6\n",
    "    num_fullyCon = 0\n",
    "    for n_filter in ResNet152_ablation_filt:\n",
    "        num_filter = n_filter\n",
    "\n",
    "\n",
    "\n",
    "        model_name_final = model_name_elem + '_' + data_name + str(image_size) + '_b'+str(batch) +'_ep'+str(epoch) + '_fi' + str(num_filter) + '_bl' + str(num_blocks) + '_fc' + str(num_fullyCon)\n",
    "        start_time = datetime.now()\n",
    "        print(model_name_final + \" - start date and time : \" + str(start_time))\n",
    "\n",
    "        if(os.path.isdir(save_path + 'keras/'+ model_name_elem + ab_type + '/' ) != True):\n",
    "            os.mkdir(save_path + 'keras/'+ model_name_elem + ab_type + '/' )  \n",
    "    ###################################\n",
    "    ######## start report Log\n",
    "        # progress report\n",
    "        ## model summary save\n",
    "        reportLog = open(save_path + 'keras/' + model_name_elem + ab_type + '/'  + model_name_final + '_reportLog.txt', 'w')\n",
    "        sys_stdout_backup = sys.stdout\n",
    "        sys.stdout = reportLog\n",
    "\n",
    "        try:\n",
    "            keras_Model_Ablation.func_keras_Models(save_path, data_name, model_name_elem, image_size, channels, batch, epoch, sys_stdout_backup,\n",
    "                                                   num_filter, num_blocks, num_fullyCon, n_classes, ab_type)\n",
    "        except Exception as e:\n",
    "            print(type(e),file=sys_stdout_backup)\n",
    "            print('Error information: ', e ,file=sys_stdout_backup)\n",
    "\n",
    "        sys.stdout = sys_stdout_backup\n",
    "        reportLog.close()\n",
    "    ########## Finish report Log\n",
    "    ###################################\n",
    "\n",
    "    #     cuda.select_device(0)\n",
    "    #     cuda.close()\n",
    "\n",
    "        tf.keras.backend.clear_session()\n",
    "        finish_time = datetime.now()\n",
    "        print(model_name_final + \" - finish date and time : \" + str(finish_time))\n",
    "        print('')"
   ]
  },
  {
   "cell_type": "code",
   "execution_count": null,
   "metadata": {},
   "outputs": [],
   "source": [
    "for model_name_elem in model_name:\n",
    "    sys.stdout = sys_stdout_backup\n",
    "    \n",
    "    if(model_name_elem != 'VGG19'):\n",
    "#         break\n",
    "        continue\n",
    "    \n",
    "    \n",
    "    \n",
    "    ab_type = ab_types[1]\n",
    "#     num_filter = 1 # 2 ~ 1/64\n",
    "#     num_blocks = 5 # 2~6\n",
    "    num_fullyCon = 2\n",
    "    for n_block in VGG19_ablation_filt:\n",
    "        num_filter = n_filter \n",
    "\n",
    "\n",
    "\n",
    "        model_name_final = model_name_elem + '_' + data_name + str(image_size) + '_b'+str(batch) +'_ep'+str(epoch) + '_fi' + str(num_filter) + '_bl' + str(num_blocks) + '_fc' + str(num_fullyCon)\n",
    "        start_time = datetime.now()\n",
    "        print(model_name_final + \" - start date and time : \" + str(start_time))\n",
    "\n",
    "        if(os.path.isdir(save_path + 'keras/'+ model_name_elem + ab_type + '/' ) != True):\n",
    "            os.mkdir(save_path + 'keras/'+ model_name_elem + ab_type + '/' )  \n",
    "    ###################################\n",
    "    ######## start report Log\n",
    "        # progress report\n",
    "        ## model summary save\n",
    "        reportLog = open(save_path + 'keras/' + model_name_elem + ab_type + '/'  + model_name_final + '_reportLog.txt', 'w')\n",
    "        sys_stdout_backup = sys.stdout\n",
    "        sys.stdout = reportLog\n",
    "\n",
    "        \n",
    "        keras_Model_Ablation.func_keras_Models(save_path, data_name, model_name_elem, image_size, channels, batch, epoch, sys_stdout_backup,\n",
    "                                                   num_filter, num_blocks, num_fullyCon, n_classes, ab_type)\n",
    "#         try:\n",
    "#             keras_Model_Ablation.func_keras_Models(save_path, data_name, model_name_elem, image_size, channels, batch, epoch, sys_stdout_backup,\n",
    "#                                                    num_filter, num_blocks, num_fullyCon, n_classes, ab_type)\n",
    "#         except Exception as e:\n",
    "#             print(type(e),file=sys_stdout_backup)\n",
    "#             print('Error information: ', e ,file=sys_stdout_backup)\n",
    "\n",
    "        sys.stdout = sys_stdout_backup\n",
    "        reportLog.close()\n",
    "    ########## Finish report Log\n",
    "    ###################################\n",
    "\n",
    "    #     cuda.select_device(0)\n",
    "    #     cuda.close()\n",
    "\n",
    "        tf.keras.backend.clear_session()\n",
    "        finish_time = datetime.now()\n",
    "        print(model_name_final + \" - finish date and time : \" + str(finish_time))\n",
    "        print('')"
   ]
  },
  {
   "cell_type": "code",
   "execution_count": null,
   "metadata": {},
   "outputs": [],
   "source": [
    "# for model_name_elem in model_name:\n",
    "#     sys.stdout = sys_stdout_backup\n",
    "    \n",
    "#     if(model_name_elem != 'VGG19'):\n",
    "# #         break\n",
    "#         continue\n",
    "    \n",
    "    \n",
    "    \n",
    "#     ab_type = ab_types[2]\n",
    "#     num_filter = 1 # 2 ~ 1/64\n",
    "#     num_blocks = 5 # 2~6\n",
    "# #     num_fullyCon = 2\n",
    "#     for n_fc in VGG19_ablation_fc:\n",
    "#         num_fullyCon = n_fc   \n",
    "# #         if(n_fc != 6):\n",
    "# #             # break\n",
    "# #             continue\n",
    "\n",
    "\n",
    "\n",
    "#         if(os.path.isdir(save_path + 'keras/'+ model_name_elem + ab_type + '/' ) != True):\n",
    "#             os.mkdir(save_path + 'keras/'+ model_name_elem + ab_type + '/' )  \n",
    "#         model_name_final = model_name_elem + '_' + data_name + str(image_size) + '_b'+str(batch) +'_ep'+str(epoch) + '_fi' + str(num_filter) + '_bl' + str(num_blocks) + '_fc' + str(num_fullyCon)\n",
    "#         start_time = datetime.now()\n",
    "#         print(model_name_final + \" - start date and time : \" + str(start_time))\n",
    "\n",
    "\n",
    "#     ###################################\n",
    "#     ######## start report Log\n",
    "#         # progress report\n",
    "#         ## model summary save\n",
    "#         reportLog = open(save_path + 'keras/' + model_name_elem + ab_type + '/'  + model_name_final + '_reportLog.txt', 'w')\n",
    "#         sys_stdout_backup = sys.stdout\n",
    "#         sys.stdout = reportLog\n",
    "\n",
    "#         try:\n",
    "#             keras_Model_Ablation.func_keras_Models(save_path, data_name, model_name_elem, image_size, channels, batch, epoch, sys_stdout_backup,\n",
    "#                                                    num_filter, num_blocks, num_fullyCon, n_classes, ab_type)\n",
    "#         except Exception as e:\n",
    "#             print(type(e),file=sys_stdout_backup)\n",
    "#             print('Error information: ', e ,file=sys_stdout_backup)\n",
    "\n",
    "#         sys.stdout = sys_stdout_backup\n",
    "#         reportLog.close()\n",
    "#     ########## Finish report Log\n",
    "#     ###################################\n",
    "\n",
    "#     #     cuda.select_device(0)\n",
    "#     #     cuda.close()\n",
    "\n",
    "#         tf.keras.backend.clear_session()\n",
    "#         finish_time = datetime.now()\n",
    "#         print(model_name_final + \" - finish date and time : \" + str(finish_time))\n",
    "#         print('')"
   ]
  },
  {
   "cell_type": "code",
   "execution_count": null,
   "metadata": {},
   "outputs": [],
   "source": [
    "tf.keras.backend.clear_session()"
   ]
  },
  {
   "cell_type": "code",
   "execution_count": null,
   "metadata": {},
   "outputs": [],
   "source": [
    "pyautogui.hotkey('ctrl', 's')"
   ]
  },
  {
   "cell_type": "code",
   "execution_count": null,
   "metadata": {},
   "outputs": [],
   "source": [
    "%autosave 60"
   ]
  },
  {
   "cell_type": "code",
   "execution_count": null,
   "metadata": {},
   "outputs": [],
   "source": [
    "os.system('shutdown -s -t 180')"
   ]
  },
  {
   "cell_type": "code",
   "execution_count": null,
   "metadata": {},
   "outputs": [],
   "source": []
  },
  {
   "cell_type": "markdown",
   "metadata": {},
   "source": [
    "# Keras based model testbed"
   ]
  },
  {
   "cell_type": "code",
   "execution_count": null,
   "metadata": {},
   "outputs": [],
   "source": [
    "datasize_name = data_name\n",
    "datasize_name = data_name + '_' + str(img_size)\n",
    "data_path = save_path +datasize_name + '/'\n",
    "ext_npy = '.npy'"
   ]
  },
  {
   "cell_type": "code",
   "execution_count": null,
   "metadata": {},
   "outputs": [],
   "source": [
    "### Load data\n",
    "X_train = np.load(data_path + datasize_name + 'Xtrain' + ext_npy)\n",
    "X_test = np.load(data_path + datasize_name + 'Xtest' + ext_npy)\n",
    "y_train = np.load(data_path + datasize_name + 'ytrain' + ext_npy)\n",
    "y_test = np.load(data_path + datasize_name + 'ytest' + ext_npy)\n",
    "\n",
    "\n",
    "\n",
    "### Preprocessing\n",
    "num_train,num_x, num_y = X_train.shape\n",
    "\n",
    "X_train = X_train.astype(np.float32) / 255.0\n",
    "X_test = X_test.astype(np.float32) / 255.0\n",
    "\n",
    "\n",
    "y_train = tf.keras.utils.to_categorical(y_train, n_classes) ### label (class vector(integer) => binary class matrix): 범주형 인코딩\n",
    "y_test = tf.keras.utils.to_categorical(y_test, n_classes) \n",
    "y_train = y_train.astype(np.int32) # label => \n",
    "y_test = y_test.astype(np.int32)\n",
    "\n",
    "print(\"[Data information]==============\")\n",
    "print(\"================================\")\n",
    "print('X_train information: '+ str(X_train.shape))\n",
    "print('X_test information: '+ str(X_test.shape))\n",
    "print(\"===\")\n",
    "if (ch == 1):\n",
    "    X_train = np.stack((X_train,)*3, axis=-1)\n",
    "    X_test = np.stack((X_test,)*3, axis=-1)\n",
    "    print('X_train gray2rgb information: '+str(X_train.shape))\n",
    "    print('X_test gray2rgb information: '+str(X_test.shape))\n",
    "print(\"================================\")"
   ]
  },
  {
   "cell_type": "code",
   "execution_count": null,
   "metadata": {},
   "outputs": [],
   "source": []
  },
  {
   "cell_type": "code",
   "execution_count": null,
   "metadata": {},
   "outputs": [],
   "source": []
  },
  {
   "cell_type": "code",
   "execution_count": null,
   "metadata": {},
   "outputs": [],
   "source": [
    "def_input = Input(shape=(img_size,img_size,3))"
   ]
  },
  {
   "cell_type": "code",
   "execution_count": null,
   "metadata": {},
   "outputs": [],
   "source": [
    "# (img_size = 64, num_filter = 1, num_blocks = 5, num_fullyCon = 2, number_classes = 10)\n",
    "# img_size = \n",
    "num_filter = 1/64 # 2 ~ 1/64\n",
    "num_blocks = 5 # 2~6\n",
    "num_fullyCon = 5\n",
    "number_classes = n_classes"
   ]
  },
  {
   "cell_type": "code",
   "execution_count": null,
   "metadata": {},
   "outputs": [],
   "source": [
    "# VGG 19\n",
    "tf.keras.backend.clear_session()\n",
    "\n",
    "model = models.Sequential()\n",
    "\n",
    "start_filter = 64\n",
    "# Block 1\n",
    "if (num_blocks > 1):\n",
    "    model.add(layers.Conv2D(filters=int(start_filter*num_filter), kernel_size=(3,3), strides=(1,1), activation='relu', padding=\"same\", \n",
    "                            input_shape=(image_size,image_size,3)))\n",
    "    model.add(layers.Conv2D(filters=int(start_filter*num_filter), kernel_size=(3,3), strides=(1,1), activation='relu', padding=\"same\"))\n",
    "    model.add(layers.MaxPool2D(pool_size=(2,2), strides=(2,2)))\n",
    "\n",
    "# Block 2\n",
    "if (num_blocks > 2):\n",
    "    model.add(layers.Conv2D(filters=int(2*start_filter*num_filter), kernel_size=(3,3), strides=(1,1), activation='relu', padding=\"same\"))\n",
    "    model.add(layers.Conv2D(filters=int(2*start_filter*num_filter), kernel_size=(3,3), strides=(1,1), activation='relu', padding=\"same\"))\n",
    "    model.add(layers.MaxPool2D(pool_size=(2,2), strides=(2,2)))\n",
    "\n",
    "# Block 3\n",
    "if (num_blocks > 3):\n",
    "    for j in range(4):\n",
    "        model.add(layers.Conv2D(filters=int((2**2)*start_filter*num_filter), kernel_size=(3,3), strides=(1,1), activation='relu', padding=\"same\"))\n",
    "    model.add(layers.MaxPool2D(pool_size=(2,2), strides=(2,2)))\n",
    "\n",
    "# Block Loop\n",
    "for i in range (3,num_blocks): # 64ch * 8 fixed on paper.\n",
    "    for j in range(4):\n",
    "        model.add(layers.Conv2D(filters=int((2**3)*start_filter*num_filter), kernel_size=(3,3), strides=(1,1), activation='relu', padding=\"same\"))\n",
    "    model.add(layers.MaxPool2D(pool_size=(2,2), strides=(2,2)))\n",
    "\n",
    "model.add(layers.Flatten())\n",
    "for i in range(num_fullyCon): \n",
    "    model.add(layers.Dense(4096, activation='relu'))\n",
    "    model.add(layers.Dropout(0.5))\n",
    "\n",
    "model.add(layers.Dense(number_classes, activation='softmax'))\n"
   ]
  },
  {
   "cell_type": "code",
   "execution_count": null,
   "metadata": {},
   "outputs": [],
   "source": [
    "# model.summary()"
   ]
  },
  {
   "cell_type": "code",
   "execution_count": null,
   "metadata": {},
   "outputs": [],
   "source": []
  }
 ],
 "metadata": {
  "kernelspec": {
   "display_name": "Python [conda env:tf2_1_py3_7] *",
   "language": "python",
   "name": "conda-env-tf2_1_py3_7-py"
  },
  "language_info": {
   "codemirror_mode": {
    "name": "ipython",
    "version": 3
   },
   "file_extension": ".py",
   "mimetype": "text/x-python",
   "name": "python",
   "nbconvert_exporter": "python",
   "pygments_lexer": "ipython3",
   "version": "3.7.9"
  }
 },
 "nbformat": 4,
 "nbformat_minor": 4
}

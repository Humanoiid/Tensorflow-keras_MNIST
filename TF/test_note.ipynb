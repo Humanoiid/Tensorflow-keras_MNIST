{
 "cells": [
  {
   "cell_type": "code",
   "execution_count": null,
   "metadata": {},
   "outputs": [],
   "source": [
    "from datetime import datetime\n",
    "# from numba import cuda\n",
    "import sys\n",
    "import os\n",
    "import pyautogui\n",
    "import hello\n",
    "import kerasAPI_humanoiid\n",
    "\n",
    "\n",
    "import numpy as np\n",
    "import tensorflow as tf\n",
    "import matplotlib.pyplot as plt\n",
    "from skimage.transform import resize\n",
    "import skimage\n",
    "# sys.stout = open('history.txt','a')\n"
   ]
  },
  {
   "cell_type": "code",
   "execution_count": null,
   "metadata": {},
   "outputs": [],
   "source": [
    "run hello.py "
   ]
  },
  {
   "cell_type": "code",
   "execution_count": null,
   "metadata": {},
   "outputs": [],
   "source": [
    "# for system print\n",
    "sys_stdout_backup = sys.stdout"
   ]
  },
  {
   "cell_type": "code",
   "execution_count": null,
   "metadata": {},
   "outputs": [],
   "source": [
    "save_path = '/Users/wlgns/Desktop/save/'\n",
    "# VGG19 VGG16 ResNet50 ResNet50V2 ResNet101 ResNet101V2 ResNet152 ResNet152V2 MobileNet MobileNetV2\n",
    "# model_name = 'VGG19'\n",
    "model_name = ['VGG19', 'VGG16', 'ResNet50','ResNet50V2', 'ResNet101', 'ResNet101V2', 'ResNet152', 'ResNet152V2', 'MobileNet', 'MobileNetV2','AlexNet']\n",
    "data_name = 'MNIST'\n",
    "image_size = 64\n",
    "channels = 1\n",
    "batch = 16\n",
    "epoch = 20\n",
    "\n"
   ]
  },
  {
   "cell_type": "code",
   "execution_count": null,
   "metadata": {},
   "outputs": [],
   "source": [
    "for model_name_elem in model_name:\n",
    "    print(model_name_elem)"
   ]
  },
  {
   "cell_type": "code",
   "execution_count": null,
   "metadata": {},
   "outputs": [],
   "source": [
    "### save Path\n",
    "if(os.path.isdir(save_path) != True):\n",
    "    os.mkdir(save_path)\n",
    "if(os.path.isdir(save_path + '/keras') != True):\n",
    "    os.mkdir(save_path + '/keras')  "
   ]
  },
  {
   "cell_type": "code",
   "execution_count": null,
   "metadata": {},
   "outputs": [],
   "source": [
    "for model_name_elem in model_name:\n",
    "    sys.stdout = sys_stdout_backup\n",
    "    \n",
    "    \n",
    "    model_name_final = model_name_elem + '_' + data_name + str(image_size) + '_b'+str(batch) +'_ep'+str(epoch)\n",
    "    start_time = datetime.now()\n",
    "    print(model_name_final + \" - start date and time : \" + str(start_time))\n",
    "    \n",
    "#     if(model_name_elem != 'AlexNet'):\n",
    "# #         break\n",
    "#         continue\n",
    "\n",
    "###################################\n",
    "######## start report Log\n",
    "    # progress report\n",
    "    ## model summary save\n",
    "    reportLog = open(save_path + 'keras/' + model_name_final + '_reportLog.txt', 'w')\n",
    "    sys_stdout_backup = sys.stdout\n",
    "    sys.stdout = reportLog\n",
    "     \n",
    "    try:\n",
    "        kerasAPI_humanoiid.func_keras_Models(save_path, data_name, model_name_elem, image_size, channels, batch, epoch, sys_stdout_backup)\n",
    "    except Exception as e:\n",
    "        print(type(e),file=sys_stdout_backup)\n",
    "        print('Error information: ', e ,file=sys_stdout_backup)\n",
    "        \n",
    "    sys.stdout = sys_stdout_backup\n",
    "    reportLog.close()\n",
    "########## Finish report Log\n",
    "###################################\n",
    "\n",
    "#     cuda.select_device(0)\n",
    "#     cuda.close()\n",
    "    \n",
    "    tf.keras.backend.clear_session()\n",
    "    finish_time = datetime.now()\n",
    "    print(model_name_final + \" - finish date and time : \" + str(finish_time))\n",
    "    print('')"
   ]
  },
  {
   "cell_type": "code",
   "execution_count": null,
   "metadata": {},
   "outputs": [],
   "source": [
    "temp = model_name[6:]\n",
    "for model_name_elem in temp:\n",
    "# for model_name_elem in model_name:\n",
    "    sys.stdout = sys_stdout_backup\n",
    "    \n",
    "    \n",
    "    model_name_final = model_name_elem + '_' + data_name + str(image_size) + '_b'+str(batch) +'_ep'+str(epoch)\n",
    "    start_time = datetime.now()\n",
    "    print(model_name_final + \" - start date and time : \" + str(start_time))\n",
    "    \n",
    "#     if(model_name_elem != 'AlexNet'):\n",
    "# #         break\n",
    "#         continue\n",
    "\n",
    "###################################\n",
    "######## start report Log\n",
    "    # progress report\n",
    "    ## model summary save\n",
    "    reportLog = open(save_path + 'keras/' + model_name_final + '_reportLog.txt', 'w')\n",
    "    sys_stdout_backup = sys.stdout\n",
    "    sys.stdout = reportLog\n",
    "     \n",
    "    try:\n",
    "        kerasAPI_humanoiid.func_keras_Models(save_path, data_name, model_name_elem, image_size, channels, batch, epoch, sys_stdout_backup)\n",
    "    except Exception as e:\n",
    "        print(type(e),file=sys_stdout_backup)\n",
    "        print('Error information: ', e ,file=sys_stdout_backup)\n",
    "        \n",
    "    sys.stdout = sys_stdout_backup\n",
    "    reportLog.close()\n",
    "########## Finish report Log\n",
    "###################################\n",
    "\n",
    "#     cuda.select_device(0)\n",
    "#     cuda.close()\n",
    "    \n",
    "    tf.keras.backend.clear_session()\n",
    "    finish_time = datetime.now()\n",
    "    print(model_name_final + \" - finish date and time : \" + str(finish_time))\n",
    "    print('')"
   ]
  },
  {
   "cell_type": "code",
   "execution_count": null,
   "metadata": {},
   "outputs": [],
   "source": [
    "# cuda.select_device(0)\n",
    "# cuda.close()\n"
   ]
  },
  {
   "cell_type": "code",
   "execution_count": null,
   "metadata": {},
   "outputs": [],
   "source": []
  },
  {
   "cell_type": "code",
   "execution_count": null,
   "metadata": {},
   "outputs": [],
   "source": []
  },
  {
   "cell_type": "code",
   "execution_count": null,
   "metadata": {},
   "outputs": [],
   "source": [
    "# # temp_model = kerasAPI_jhs.AlexNet(10, 10)\n",
    "# history = open(save_path + 'keras/' + 'test' + '_history.txt', 'w')\n",
    "# sys_stdout_backup = sys.stdout\n",
    "# sys.stdout = history\n",
    "# try:\n",
    "\n",
    "    \n",
    "#     temp_model = kerasAPI_jhs.AlexNet(10, 10)\n",
    "# except Exception as ex:\n",
    "#     print(type(ex))\n",
    "#     print('Error information: ',ex)\n",
    "    \n",
    "#     sys.stdout = sys_stdout_backup\n",
    "#     history.close()\n",
    "#     print('Model Error. skip')\n"
   ]
  },
  {
   "cell_type": "code",
   "execution_count": null,
   "metadata": {},
   "outputs": [],
   "source": []
  },
  {
   "cell_type": "code",
   "execution_count": null,
   "metadata": {},
   "outputs": [],
   "source": []
  },
  {
   "cell_type": "code",
   "execution_count": null,
   "metadata": {},
   "outputs": [],
   "source": [
    "tf.keras.backend.clear_session()"
   ]
  },
  {
   "cell_type": "code",
   "execution_count": null,
   "metadata": {},
   "outputs": [],
   "source": []
  },
  {
   "cell_type": "code",
   "execution_count": null,
   "metadata": {},
   "outputs": [],
   "source": []
  },
  {
   "cell_type": "code",
   "execution_count": null,
   "metadata": {},
   "outputs": [],
   "source": []
  },
  {
   "cell_type": "code",
   "execution_count": null,
   "metadata": {},
   "outputs": [],
   "source": []
  },
  {
   "cell_type": "code",
   "execution_count": null,
   "metadata": {},
   "outputs": [],
   "source": [
    "pyautogui.hotkey('ctrl', 's')"
   ]
  },
  {
   "cell_type": "code",
   "execution_count": null,
   "metadata": {},
   "outputs": [],
   "source": [
    "%autosave 60"
   ]
  },
  {
   "cell_type": "code",
   "execution_count": null,
   "metadata": {},
   "outputs": [],
   "source": []
  },
  {
   "cell_type": "code",
   "execution_count": null,
   "metadata": {},
   "outputs": [],
   "source": []
  },
  {
   "cell_type": "code",
   "execution_count": null,
   "metadata": {},
   "outputs": [],
   "source": [
    "os.system('shutdown -s -t 180')"
   ]
  },
  {
   "cell_type": "code",
   "execution_count": null,
   "metadata": {},
   "outputs": [],
   "source": [
    "# %pip install ipython"
   ]
  },
  {
   "cell_type": "code",
   "execution_count": null,
   "metadata": {},
   "outputs": [],
   "source": []
  },
  {
   "cell_type": "code",
   "execution_count": null,
   "metadata": {},
   "outputs": [],
   "source": [
    "# if(os.path.isdir(save_path) != True):\n",
    "#     os.mkdir(save_path)\n",
    "# if(os.path.isdir(save_path + 'keras/') != True):\n",
    "#     os.mkdir(save_path + 'keras/')   \n"
   ]
  },
  {
   "cell_type": "code",
   "execution_count": null,
   "metadata": {},
   "outputs": [],
   "source": [
    "# print(save_path + 'keras/' + model_name + 'summary.txt')"
   ]
  },
  {
   "cell_type": "code",
   "execution_count": null,
   "metadata": {},
   "outputs": [],
   "source": [
    "# history = open('output.txt','w')\n",
    "# sys_stdout_backup = sys.stdout\n",
    "# sys.stdout = history\n",
    "\n",
    "# print('gdsfgsdg')\n",
    "# sys.stdout = sys_stdout_backup\n",
    "# history.close()"
   ]
  },
  {
   "cell_type": "code",
   "execution_count": null,
   "metadata": {},
   "outputs": [],
   "source": [
    "# print('again')"
   ]
  },
  {
   "cell_type": "code",
   "execution_count": null,
   "metadata": {},
   "outputs": [],
   "source": []
  },
  {
   "cell_type": "code",
   "execution_count": null,
   "metadata": {},
   "outputs": [],
   "source": []
  },
  {
   "cell_type": "code",
   "execution_count": null,
   "metadata": {},
   "outputs": [],
   "source": []
  },
  {
   "cell_type": "code",
   "execution_count": null,
   "metadata": {},
   "outputs": [],
   "source": [
    "# datasize_name = data_name\n",
    "# datasize_name = data_name + '_' + str(image_size)\n",
    "# data_path = save_path +datasize_name + '/'\n",
    "# ext_npy = '.npy'\n",
    "\n",
    "# n_classes = 10\n",
    "# ch = 1\n",
    "# # ext_keras = '.h5'\n",
    "# # keras_model_path = save_path +'keras/' + model_name_final + ext_keras \n",
    "\n",
    "\n",
    "# ### Load data\n",
    "# X_train = np.load(data_path + datasize_name + 'Xtrain' + ext_npy)\n",
    "# X_test = np.load(data_path + datasize_name + 'Xtest' + ext_npy)\n",
    "# y_train = np.load(data_path + datasize_name + 'ytrain' + ext_npy)\n",
    "# y_test = np.load(data_path + datasize_name + 'ytest' + ext_npy)\n",
    "\n",
    "\n",
    "\n",
    "# ### Preprocessing\n",
    "# num_train,num_x, num_y = X_train.shape\n",
    "# num_test,num_x, num_y = X_test.shape\n",
    "\n",
    "# X_train = X_train.astype(np.float32) / 255.0\n",
    "# X_test = X_test.astype(np.float32) / 255.0\n",
    "\n",
    "\n",
    "# y_train = tf.keras.utils.to_categorical(y_train, n_classes) ### label (class vector(integer) => binary class matrix): 범주형 인코딩\n",
    "# y_test = tf.keras.utils.to_categorical(y_test, n_classes) \n",
    "# y_train = y_train.astype(np.int32) # label => \n",
    "# y_test = y_test.astype(np.int32)\n",
    "\n",
    "# print(\"[Data information]==============\")\n",
    "# print(\"================================\")\n",
    "# print('X_train information: '+ str(X_train.shape))\n",
    "# print('X_test information: '+ str(X_test.shape))\n",
    "# print(\"===\")\n",
    "# if (ch == 1):\n",
    "#     X_train = np.stack((X_train,)*3, axis=-1)\n",
    "#     X_test = np.stack((X_test,)*3, axis=-1)\n",
    "    \n",
    "# #     X_train[:,np.newaxis]\n",
    "# #     print('X_train expand information: '+ str(X_train.shape))\n",
    "# #     print('X_test  expand information: '+ str(X_test.shape))   \n",
    "# #     X_train = np.stack(X_train,X_train,X_train, axis=3)\n",
    "# #     X_test = np.stack(X_test,X_test,X_test, axis=3)\n",
    "\n",
    "\n",
    "# #     X_train = skimage.color.gray2rgb(X_train)\n",
    "# #     X_test = skimage.color.gray2rgb(X_test)\n",
    "#     print('X_train gray2rgb information: '+str(X_train.shape))\n",
    "#     print('X_test gray2rgb information: '+str(X_test.shape))\n",
    "# print(\"================================\")\n",
    "\n",
    "\n",
    "# plt.figure(figsize=(10,10))\n",
    "# for i in range(25):\n",
    "#     plt.subplot(5,5,i+1)\n",
    "#     plt.xticks([])\n",
    "#     plt.yticks([])\n",
    "#     plt.grid(False)\n",
    "# #     plt.imshow(X_train[i], cmap=plt.cm.binary)\n",
    "#     plt.imshow(X_train[i,:,:,2])\n",
    "#     plt.xlabel(y_train[i])\n",
    "#     plt.colorbar()    \n",
    "# plt.show()\n"
   ]
  },
  {
   "cell_type": "code",
   "execution_count": null,
   "metadata": {},
   "outputs": [],
   "source": [
    "# print(X_train.shape)\n",
    "# print(X_train[i,:,:,0].shape)"
   ]
  },
  {
   "cell_type": "code",
   "execution_count": null,
   "metadata": {},
   "outputs": [],
   "source": [
    "# a = [[1,1],[1,1]]\n",
    "# temp = np.stack((a,)*3, axis=-1)\n",
    "# print(temp)\n",
    "# print(len(a))\n",
    "# print(temp.shape)"
   ]
  },
  {
   "cell_type": "code",
   "execution_count": null,
   "metadata": {},
   "outputs": [],
   "source": []
  },
  {
   "cell_type": "code",
   "execution_count": null,
   "metadata": {},
   "outputs": [],
   "source": []
  },
  {
   "cell_type": "code",
   "execution_count": null,
   "metadata": {},
   "outputs": [],
   "source": []
  },
  {
   "cell_type": "code",
   "execution_count": null,
   "metadata": {},
   "outputs": [],
   "source": []
  },
  {
   "cell_type": "code",
   "execution_count": null,
   "metadata": {},
   "outputs": [],
   "source": []
  }
 ],
 "metadata": {
  "kernelspec": {
   "display_name": "Python [conda env:tf2_3_py3_7]",
   "language": "python",
   "name": "conda-env-tf2_3_py3_7-py"
  },
  "language_info": {
   "codemirror_mode": {
    "name": "ipython",
    "version": 3
   },
   "file_extension": ".py",
   "mimetype": "text/x-python",
   "name": "python",
   "nbconvert_exporter": "python",
   "pygments_lexer": "ipython3",
   "version": "3.7.9"
  }
 },
 "nbformat": 4,
 "nbformat_minor": 4
}

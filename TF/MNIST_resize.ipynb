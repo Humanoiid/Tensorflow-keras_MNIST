{
 "cells": [
  {
   "cell_type": "code",
   "execution_count": null,
   "metadata": {},
   "outputs": [],
   "source": [
    "import tensorflow as tf\n",
    "from tensorflow import keras\n",
    "import numpy as np\n",
    "import os\n",
    "import matplotlib.pyplot as plt\n",
    "from skimage.transform import resize\n"
   ]
  },
  {
   "cell_type": "code",
   "execution_count": null,
   "metadata": {},
   "outputs": [],
   "source": [
    "save_path = '/Users/wlgns/Desktop/save/'\n",
    "\n",
    "size = 64\n",
    "data_name = 'MNIST_' + str(size)\n",
    "data_path = save_path + data_name + '/'\n",
    "ext_npy = '.npy'\n",
    "# print(data_path)"
   ]
  },
  {
   "cell_type": "code",
   "execution_count": null,
   "metadata": {},
   "outputs": [],
   "source": []
  },
  {
   "cell_type": "code",
   "execution_count": null,
   "metadata": {},
   "outputs": [],
   "source": [
    "(X_train_org, y_train_org), (X_test_org, y_test_org) = tf.keras.datasets.mnist.load_data()\n"
   ]
  },
  {
   "cell_type": "code",
   "execution_count": null,
   "metadata": {},
   "outputs": [],
   "source": []
  },
  {
   "cell_type": "code",
   "execution_count": null,
   "metadata": {},
   "outputs": [],
   "source": [
    "num_train,x_org, y_org = X_train_org.shape\n",
    "num_test,x_org, y_org = X_test_org.shape\n",
    "\n",
    "X_train_resized = np.zeros((num_train,size,size))\n",
    "X_train_resized= resize(X_train_org, (num_train, size,size))\n",
    "\n",
    "X_test_resized = np.zeros((num_test,size,size))\n",
    "X_test_resized= resize(X_train_org, (num_test,size,size))"
   ]
  },
  {
   "cell_type": "code",
   "execution_count": null,
   "metadata": {},
   "outputs": [],
   "source": [
    "print(X_train_resized.shape)\n",
    "# plt.show(X_train_64[0])\n",
    "print(type(X_train_org))\n",
    "print(type(X_train_resized))\n",
    "plt.imshow(X_train_org[0], cmap='gray')\n",
    "plt.colorbar()\n",
    "\n"
   ]
  },
  {
   "cell_type": "code",
   "execution_count": null,
   "metadata": {},
   "outputs": [],
   "source": [
    "plt.imshow(X_train_resized[0], cmap='gray')\n",
    "plt.colorbar()"
   ]
  },
  {
   "cell_type": "code",
   "execution_count": null,
   "metadata": {},
   "outputs": [],
   "source": []
  },
  {
   "cell_type": "code",
   "execution_count": null,
   "metadata": {},
   "outputs": [],
   "source": [
    "if(os.path.isdir(save_path) != True):\n",
    "    os.mkdir(save_path)\n",
    "if(os.path.isdir(data_path) != True):\n",
    "    os.mkdir(data_path)   "
   ]
  },
  {
   "cell_type": "code",
   "execution_count": null,
   "metadata": {},
   "outputs": [],
   "source": []
  },
  {
   "cell_type": "code",
   "execution_count": null,
   "metadata": {},
   "outputs": [],
   "source": [
    "np.save(data_path + data_name + 'Xtrain' + ext_npy ,X_train_resized)\n",
    "np.save(data_path + data_name + 'Xtest' + ext_npy ,X_test_resized)\n",
    "np.save(data_path + data_name + 'ytrain' + ext_npy ,y_train_org)\n",
    "np.save(data_path + data_name + 'ytest' + ext_npy ,y_test_org)"
   ]
  },
  {
   "cell_type": "code",
   "execution_count": null,
   "metadata": {},
   "outputs": [],
   "source": [
    "print(X_train_resized.shape)"
   ]
  },
  {
   "cell_type": "code",
   "execution_count": null,
   "metadata": {},
   "outputs": [],
   "source": []
  }
 ],
 "metadata": {
  "kernelspec": {
   "display_name": "Python [conda env:tf2_3_py3_7]",
   "language": "python",
   "name": "conda-env-tf2_3_py3_7-py"
  },
  "language_info": {
   "codemirror_mode": {
    "name": "ipython",
    "version": 3
   },
   "file_extension": ".py",
   "mimetype": "text/x-python",
   "name": "python",
   "nbconvert_exporter": "python",
   "pygments_lexer": "ipython3",
   "version": "3.7.9"
  }
 },
 "nbformat": 4,
 "nbformat_minor": 4
}

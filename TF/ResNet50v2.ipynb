{
 "cells": [
  {
   "cell_type": "markdown",
   "metadata": {},
   "source": [
    "# ResNet50v2\n",
    "Link: https://tykimos.github.io/warehouse/2018-3-19-ISS_Python_Deep_Learning_Keras_with_Blocks_jmj.pdf\n",
    "\n",
    "API: https://keras.io/api/applications/"
   ]
  },
  {
   "cell_type": "code",
   "execution_count": 1,
   "metadata": {},
   "outputs": [],
   "source": [
    "# %pip uninstall tensorflow"
   ]
  },
  {
   "cell_type": "code",
   "execution_count": 6,
   "metadata": {},
   "outputs": [],
   "source": [
    "# "
   ]
  },
  {
   "cell_type": "code",
   "execution_count": null,
   "metadata": {},
   "outputs": [],
   "source": []
  },
  {
   "cell_type": "code",
   "execution_count": 3,
   "metadata": {},
   "outputs": [
    {
     "ename": "ModuleNotFoundError",
     "evalue": "No module named 'tensorflow'",
     "output_type": "error",
     "traceback": [
      "\u001b[1;31m---------------------------------------------------------------------------\u001b[0m",
      "\u001b[1;31mModuleNotFoundError\u001b[0m                       Traceback (most recent call last)",
      "\u001b[1;32m<ipython-input-3-0ddc5cf2ffbd>\u001b[0m in \u001b[0;36m<module>\u001b[1;34m\u001b[0m\n\u001b[0;32m      3\u001b[0m \u001b[1;33m\u001b[0m\u001b[0m\n\u001b[0;32m      4\u001b[0m \u001b[1;31m# Tensorflow ans tf.keras\u001b[0m\u001b[1;33m\u001b[0m\u001b[1;33m\u001b[0m\u001b[1;33m\u001b[0m\u001b[0m\n\u001b[1;32m----> 5\u001b[1;33m \u001b[1;32mimport\u001b[0m \u001b[0mtensorflow\u001b[0m \u001b[1;32mas\u001b[0m \u001b[0mtf\u001b[0m\u001b[1;33m\u001b[0m\u001b[1;33m\u001b[0m\u001b[0m\n\u001b[0m\u001b[0;32m      6\u001b[0m \u001b[1;32mfrom\u001b[0m \u001b[0mtensorflow\u001b[0m \u001b[1;32mimport\u001b[0m \u001b[0mkeras\u001b[0m\u001b[1;33m\u001b[0m\u001b[1;33m\u001b[0m\u001b[0m\n\u001b[0;32m      7\u001b[0m \u001b[1;33m\u001b[0m\u001b[0m\n",
      "\u001b[1;31mModuleNotFoundError\u001b[0m: No module named 'tensorflow'"
     ]
    }
   ],
   "source": [
    "import argparse\n",
    "import sys\n",
    "\n",
    "# Tensorflow ans tf.keras\n",
    "import tensorflow as tf\n",
    "from tensorflow import keras\n",
    "\n",
    "# Helper libraries\n",
    "import numpy as np\n",
    "import math\n",
    "import matplotlib.pyplot as plt\n",
    "from skimage.transform import resize\n",
    "\n",
    "# keras libraries\n",
    "from tensorflow.keras import models\n",
    "from tensorflow.keras.models import load_model, Sequential\n",
    "from tensorflow.keras import layers\n",
    "from tensorflow.keras.layers import Dense, Flatten, Input, Activation, UpSampling2D\n",
    "from tensorflow.keras.layers import Conv2D, MaxPooling2D\n",
    "from tensorflow.keras.layers import BatchNormalization\n",
    "from tensorflow.keras import optimizers\n",
    "from tensorflow.keras.models import Model\n",
    "from tensorflow.keras.callbacks import EarlyStopping\n",
    "\n",
    "from tensorflow.keras.preprocessing import image\n",
    "# from tensorflow.keras.applications.resnet50 import preprocess_input, decode_predictions\n",
    "\n",
    "\n",
    "# resnet50\n",
    "# from keras.applications import ResNet50\n",
    "# from keras.applications.resnet50 import ResNet50\n",
    "\n",
    "\n",
    "\n",
    "\n",
    "print(tf.__version__)"
   ]
  },
  {
   "cell_type": "code",
   "execution_count": null,
   "metadata": {},
   "outputs": [],
   "source": [
    "(X_train_org, y_train_org), (X_test_org, y_test_org) = tf.keras.datasets.mnist.load_data()\n",
    "print(y_train_org[0])"
   ]
  },
  {
   "cell_type": "code",
   "execution_count": null,
   "metadata": {},
   "outputs": [],
   "source": [
    "# X_train_224 = resize(X_train_org, (begin():end(),224,224))\n",
    "print(type(X_train_org.shape))\n",
    "num_train,x_org, y_org = X_train_org.shape\n",
    "num_test,x_org, y_org = X_test_org.shape\n",
    "\n",
    "X_train = X_train_org.astype(np.float32) / 255.0\n",
    "X_test = X_test_org.astype(np.float32) / 255.0\n",
    "\n",
    "# number of classes (label. 0~9: 10)\n",
    "n_classes = 10\n",
    "\n",
    "y_train = tf.keras.utils.to_categorical(y_train_org, n_classes) ### label (class vector(integer) => binary class matrix): 범주형 인코딩\n",
    "y_test = tf.keras.utils.to_categorical(y_test_org, n_classes) \n",
    "print(y_train[0])\n",
    "y_train = y_train.astype(np.int32) # label => \n",
    "y_test = y_test.astype(np.int32)\n",
    "print(y_train[0])"
   ]
  },
  {
   "cell_type": "code",
   "execution_count": null,
   "metadata": {},
   "outputs": [],
   "source": [
    "# num_train,x_org, y_org = X_train_org.shape\n",
    "# X_train_224 = np.zeros((num_train,224, 224))\n",
    "# X_train_224[0]= resize(X_train_org[0], (224,224))\n",
    "\n",
    "# plt.imshow(X_train_224[0], cmap='gray')\n",
    "# plt.colorbar()"
   ]
  },
  {
   "cell_type": "code",
   "execution_count": null,
   "metadata": {},
   "outputs": [],
   "source": [
    "X_train_rgb = np.stack((X_train,)*3, axis=-1)\n",
    "X_test_rgb = np.stack((X_test,)*3, axis=-1)\n",
    "print(type(X_train))\n",
    "print(X_train.shape)\n",
    "print(\"===\")\n",
    "print(type(X_train_rgb))\n",
    "print(X_train_rgb.shape)\n",
    "print(\"===\")\n",
    "print(y_train_org.shape)"
   ]
  },
  {
   "cell_type": "code",
   "execution_count": null,
   "metadata": {},
   "outputs": [],
   "source": [
    "# model\n",
    "# def_input = Input(shape=(28,28,1))\n",
    "def_input = Input(shape=(28,28,3))\n",
    "ratio = int(224/28)\n",
    "upsampled = UpSampling2D((ratio, ratio))(def_input)\n",
    "# model =  tf.keras.applications.ResNet50V2(input_tensor=upsampled, weights=None, classes=n_classes)\n",
    "model =  tf.keras.applications.resnet_v2.ResNet50V2(input_tensor=upsampled, weights=None, classes=n_classes)\n",
    "# model.add(Dense(n_classes, activation='softmax'))"
   ]
  },
  {
   "cell_type": "code",
   "execution_count": null,
   "metadata": {},
   "outputs": [],
   "source": [
    "model.summary()"
   ]
  },
  {
   "cell_type": "code",
   "execution_count": null,
   "metadata": {},
   "outputs": [],
   "source": []
  },
  {
   "cell_type": "code",
   "execution_count": null,
   "metadata": {},
   "outputs": [],
   "source": []
  },
  {
   "cell_type": "code",
   "execution_count": null,
   "metadata": {},
   "outputs": [],
   "source": [
    "# 3. 모델 학습과정 설정하기\n",
    "# model.compile(loss='categorical_crossentropy', optimizer='adam',\n",
    "#               metrics=['accuracy']) # 최적화 알고리즘 설정\n",
    "\n",
    "model.compile(optimizer='rmsprop',\n",
    "                loss='categorical_crossentropy',\n",
    "                metrics=['accuracy'])"
   ]
  },
  {
   "cell_type": "code",
   "execution_count": null,
   "metadata": {},
   "outputs": [],
   "source": [
    "# 4. 모델 학습시키기\n",
    "# model.fit_generator(\n",
    "#  train_generator, # 훈련셋 지정\n",
    "#  steps_per_epoch=200, # 총 훈련셋 수 / 배치 사이즈 (= 1000/50)\n",
    "#  epochs=150) # 전체 훈련셋 학습 반복 횟수 지정\n",
    "model.fit(X_train_rgb, y_train, epochs=5, batch_size=32)"
   ]
  },
  {
   "cell_type": "code",
   "execution_count": null,
   "metadata": {},
   "outputs": [],
   "source": [
    "# 5. 모델 평가하기\n",
    "# score=model.evaluate_generator(test_generator, steps=3) "
   ]
  },
  {
   "cell_type": "code",
   "execution_count": null,
   "metadata": {},
   "outputs": [],
   "source": [
    "# model evaluation\n",
    "# link: https://tykimos.github.io/2017/06/10/Model_Save_Load/\n",
    "loss_and_metrics = model.evaluate(X_test_rgb, y_test, batch_size=32)\n",
    "print('')\n",
    "print('loss_and_metrics : ' + str(loss_and_metrics))"
   ]
  },
  {
   "cell_type": "code",
   "execution_count": null,
   "metadata": {},
   "outputs": [],
   "source": []
  },
  {
   "cell_type": "code",
   "execution_count": null,
   "metadata": {},
   "outputs": [],
   "source": [
    "model_name = 'mnist_resnet50v2_model' # should update this value by each model\n",
    "\n",
    "keras_name = 'save/keras/'\n",
    "# keras2tf_name = 'save/keras-tf/'\n",
    "# tf2tfl_name = 'save/tf-tfl/'\n",
    "tfl_name = 'save/tflite/'\n",
    "\n",
    "ext_keras = '.h5'\n",
    "ext_tfl = '.tflite'\n",
    "\n",
    "print(keras_name+model_name)"
   ]
  },
  {
   "cell_type": "code",
   "execution_count": null,
   "metadata": {},
   "outputs": [],
   "source": [
    "# save model\n",
    "model.save(keras_name+model_name)"
   ]
  },
  {
   "cell_type": "code",
   "execution_count": null,
   "metadata": {},
   "outputs": [],
   "source": [
    "# load model\n",
    "model = load_model(keras_name+model_name)"
   ]
  },
  {
   "cell_type": "code",
   "execution_count": null,
   "metadata": {},
   "outputs": [],
   "source": []
  },
  {
   "cell_type": "code",
   "execution_count": null,
   "metadata": {},
   "outputs": [],
   "source": []
  },
  {
   "cell_type": "code",
   "execution_count": null,
   "metadata": {},
   "outputs": [],
   "source": [
    "# model_temp = load_model('save/keras/mnist_resnet50_model.h5')"
   ]
  },
  {
   "cell_type": "code",
   "execution_count": null,
   "metadata": {
    "scrolled": false
   },
   "outputs": [],
   "source": [
    "# model_temp.summary()"
   ]
  },
  {
   "cell_type": "code",
   "execution_count": null,
   "metadata": {},
   "outputs": [],
   "source": [
    "# %pip list"
   ]
  }
 ],
 "metadata": {
  "kernelspec": {
   "display_name": "Python 3",
   "language": "python",
   "name": "python3"
  },
  "language_info": {
   "codemirror_mode": {
    "name": "ipython",
    "version": 3
   },
   "file_extension": ".py",
   "mimetype": "text/x-python",
   "name": "python",
   "nbconvert_exporter": "python",
   "pygments_lexer": "ipython3",
   "version": "3.8.3"
  }
 },
 "nbformat": 4,
 "nbformat_minor": 4
}

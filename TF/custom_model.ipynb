{
 "cells": [
  {
   "cell_type": "markdown",
   "metadata": {},
   "source": [
    "# MobileNet\n",
    "Link: https://tykimos.github.io/warehouse/2018-3-19-ISS_Python_Deep_Learning_Keras_with_Blocks_jmj.pdf"
   ]
  },
  {
   "cell_type": "code",
   "execution_count": 16,
   "metadata": {
    "scrolled": true
   },
   "outputs": [
    {
     "name": "stdout",
     "output_type": "stream",
     "text": [
      "1.14.0\n"
     ]
    }
   ],
   "source": [
    "import argparse\n",
    "import sys\n",
    "\n",
    "# Tensorflow ans tf.keras\n",
    "import tensorflow as tf\n",
    "from tensorflow import keras\n",
    "\n",
    "# Helper libraries\n",
    "import numpy as np\n",
    "import math\n",
    "import matplotlib.pyplot as plt\n",
    "\n",
    "# keras libraries\n",
    "from keras import models\n",
    "from keras.models import load_model, Sequential\n",
    "from keras import layers\n",
    "from keras.layers import Dense, Flatten\n",
    "from keras.layers.convolutional import Conv2D, MaxPooling2D\n",
    "\n",
    "\n",
    "print(tf.__version__)"
   ]
  },
  {
   "cell_type": "code",
   "execution_count": 18,
   "metadata": {},
   "outputs": [
    {
     "name": "stdout",
     "output_type": "stream",
     "text": [
      "5\n",
      "[0. 0. 0. 0. 0. 1. 0. 0. 0. 0.]\n",
      "[0 0 0 0 0 1 0 0 0 0]\n"
     ]
    }
   ],
   "source": [
    "(X_train_org, y_train_org), (X_test_org, y_test_org) = tf.keras.datasets.mnist.load_data()\n",
    "print(y_train_org[0])\n",
    "X_train = X_train_org.astype(np.float32).reshape(-1, 28*28) / 255.0 # image ### Image\n",
    "X_test = X_test_org.astype(np.float32).reshape(-1, 28*28) / 255.0 # image\n",
    "y_train = tf.keras.utils.to_categorical(y_train_org) ### label (class vector(integer) => binary class matrix): 범주형 인코딩\n",
    "y_test = tf.keras.utils.to_categorical(y_test_org) \n",
    "print(y_train[0])\n",
    "y_train = y_train.astype(np.int32) # label => \n",
    "y_test = y_test.astype(np.int32)\n",
    "print(y_train[0])"
   ]
  },
  {
   "cell_type": "code",
   "execution_count": 21,
   "metadata": {},
   "outputs": [
    {
     "ename": "SyntaxError",
     "evalue": "invalid syntax (<ipython-input-21-4f793dbc592d>, line 8)",
     "output_type": "error",
     "traceback": [
      "\u001b[1;36m  File \u001b[1;32m\"<ipython-input-21-4f793dbc592d>\"\u001b[1;36m, line \u001b[1;32m8\u001b[0m\n\u001b[1;33m    model.add(Conv2D(64,kernel_size=(3, 3), activation='relu')) # 은닉층\u001b[0m\n\u001b[1;37m        ^\u001b[0m\n\u001b[1;31mSyntaxError\u001b[0m\u001b[1;31m:\u001b[0m invalid syntax\n"
     ]
    }
   ],
   "source": [
    "# sequential model\n",
    "model = Sequential() # 순차 모델 생성\n",
    "\n",
    "model.add(Conv2D(32, # 필터 수\n",
    "  kernel_size=(3, 3), # 필터 사이즈\n",
    "  activation='relu', # 활성화 함수\n",
    "  input_shape=(28, 28, 3)) # (입력 이미지 사이즈, 채널 수)\n",
    "model.add(Conv2D(64,kernel_size=(3, 3), activation='relu')) # 은닉층\n",
    "model.add(MaxPooling2D(pool_size=(2, 2))) # 사소한 변화 무시\n",
    "model.add(Flatten()) # 영상 -> 문자열 변환\n",
    "model.add(Dense(128, activation='relu')) # 은닉층\n",
    "model.add(Dense(5, activation='softmax')) # 최종 출력층\n",
    "\n",
    "model.summary()"
   ]
  },
  {
   "cell_type": "markdown",
   "metadata": {},
   "source": [
    "1. keras에서의 mobilenet 구현\n",
    "2. 학습 실행 후 모델 저장\n",
    "3. tensorflow lite 변환 작업\n",
    "4. app에 로딩"
   ]
  },
  {
   "cell_type": "code",
   "execution_count": null,
   "metadata": {},
   "outputs": [],
   "source": [
    "# 3. 모델 학습과정 설정하기\n",
    "model.compile(loss='categorical_crossentropy', optimizer='adam',\n",
    "              metrics=['accuracy']) # 최적화 알고리즘 설정"
   ]
  },
  {
   "cell_type": "code",
   "execution_count": null,
   "metadata": {},
   "outputs": [],
   "source": [
    "# 4. 모델 학습시키기\n",
    "model.fit_generator(\n",
    " train_generator, # 훈련셋 지정\n",
    " steps_per_epoch=200, # 총 훈련셋 수 / 배치 사이즈 (= 1000/50)\n",
    " epochs=150) # 전체 훈련셋 학습 반복 횟수 지정"
   ]
  },
  {
   "cell_type": "code",
   "execution_count": null,
   "metadata": {},
   "outputs": [],
   "source": [
    "# 5. 모델 평가하기\n",
    "score=model.evaluate_generator(test_generator, steps=3) "
   ]
  },
  {
   "cell_type": "code",
   "execution_count": null,
   "metadata": {},
   "outputs": [],
   "source": []
  },
  {
   "cell_type": "code",
   "execution_count": null,
   "metadata": {},
   "outputs": [],
   "source": []
  },
  {
   "cell_type": "code",
   "execution_count": null,
   "metadata": {},
   "outputs": [],
   "source": []
  },
  {
   "cell_type": "code",
   "execution_count": null,
   "metadata": {},
   "outputs": [],
   "source": []
  },
  {
   "cell_type": "code",
   "execution_count": null,
   "metadata": {},
   "outputs": [],
   "source": []
  }
 ],
 "metadata": {
  "kernelspec": {
   "display_name": "tensorflow114_py37",
   "language": "python",
   "name": "tensorflow114_py37"
  },
  "language_info": {
   "codemirror_mode": {
    "name": "ipython",
    "version": 3
   },
   "file_extension": ".py",
   "mimetype": "text/x-python",
   "name": "python",
   "nbconvert_exporter": "python",
   "pygments_lexer": "ipython3",
   "version": "3.7.7"
  }
 },
 "nbformat": 4,
 "nbformat_minor": 4
}
